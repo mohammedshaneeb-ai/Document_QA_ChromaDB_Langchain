{
 "cells": [
  {
   "cell_type": "markdown",
   "id": "617120dc",
   "metadata": {},
   "source": [
    "## Installing Required Libraries"
   ]
  },
  {
   "cell_type": "code",
   "execution_count": 1,
   "id": "2ea44e85",
   "metadata": {},
   "outputs": [],
   "source": [
    "!pip install openai chromadb sentence_transformers -q"
   ]
  },
  {
   "cell_type": "code",
   "execution_count": 3,
   "id": "c7fac6f0",
   "metadata": {},
   "outputs": [],
   "source": [
    "!pip install langchain unstructured -q "
   ]
  },
  {
   "cell_type": "markdown",
   "id": "a2a99b5c",
   "metadata": {},
   "source": [
    "## Load Documents"
   ]
  },
  {
   "cell_type": "code",
   "execution_count": 4,
   "id": "9279e403",
   "metadata": {},
   "outputs": [
    {
     "data": {
      "text/plain": [
       "5"
      ]
     },
     "execution_count": 4,
     "metadata": {},
     "output_type": "execute_result"
    }
   ],
   "source": [
    "from langchain.document_loaders import DirectoryLoader\n",
    "directory = 'countries'\n",
    "\n",
    "def load_doc(directory):\n",
    "    loader = DirectoryLoader(directory)\n",
    "    documents = loader.load()\n",
    "    return documents\n",
    "\n",
    "documents = load_doc(directory)\n",
    "len(documents)"
   ]
  },
  {
   "cell_type": "markdown",
   "id": "bb60f579",
   "metadata": {},
   "source": [
    "## Splitting to Chunks"
   ]
  },
  {
   "cell_type": "code",
   "execution_count": 6,
   "id": "0e4a53e0",
   "metadata": {},
   "outputs": [
    {
     "name": "stdout",
     "output_type": "stream",
     "text": [
      "23\n"
     ]
    }
   ],
   "source": [
    "from langchain.text_splitter import RecursiveCharacterTextSplitter\n",
    "\n",
    "def split_doc(documents,chunk_size=1000, chunk_overlap=20):\n",
    "    text_splitter = RecursiveCharacterTextSplitter(chunk_size=chunk_size,chunk_overlap=chunk_overlap)\n",
    "    docs = text_splitter.split_documents(documents)\n",
    "    return docs\n",
    "\n",
    "docs = split_doc(documents)\n",
    "print(len(docs))"
   ]
  },
  {
   "cell_type": "code",
   "execution_count": 8,
   "id": "f179ad96",
   "metadata": {},
   "outputs": [
    {
     "data": {
      "text/plain": [
       "\"Let's explore the culture, festivals, and history of England in detail.\\n\\n\\n\\n\\n\\nEngland's Culture:**\\n\\n**1. Cultural Heritage:** England is renowned for its rich cultural heritage, which has significantly influenced the world. Its contributions include literature, theater, music, and art. Notable figures include William Shakespeare, Charles Dickens, and The Beatles.\\n\\n**2. Language:** English, the official language, has become a global lingua franca. England's language and literature have played a pivotal role in shaping the modern world.\\n\\n**3. Arts and Entertainment:** England is home to world-class theaters like London's West End, where numerous plays and musicals are performed. The country has a strong tradition of classical music and hosts events like the BBC Proms.\\n\\n**4. Cuisine:** English cuisine includes classics like fish and chips, roast dinners, and afternoon tea. The country also has a diverse culinary scene influenced by immigration, with a variety of international restaurants.\""
      ]
     },
     "execution_count": 8,
     "metadata": {},
     "output_type": "execute_result"
    }
   ],
   "source": [
    "docs[0].page_content"
   ]
  },
  {
   "cell_type": "code",
   "execution_count": 9,
   "id": "5fe18d62",
   "metadata": {},
   "outputs": [
    {
     "data": {
      "text/plain": [
       "\"Pakistan's culture, festivals, and history are deeply rooted in its Islamic heritage and diverse cultural influences. The country's rich traditions and historical legacy contribute to its unique identity.\""
      ]
     },
     "execution_count": 9,
     "metadata": {},
     "output_type": "execute_result"
    }
   ],
   "source": [
    "docs[22].page_content"
   ]
  },
  {
   "cell_type": "code",
   "execution_count": null,
   "id": "c47459fb",
   "metadata": {},
   "outputs": [],
   "source": []
  }
 ],
 "metadata": {
  "kernelspec": {
   "display_name": "Python 3 (ipykernel)",
   "language": "python",
   "name": "python3"
  },
  "language_info": {
   "codemirror_mode": {
    "name": "ipython",
    "version": 3
   },
   "file_extension": ".py",
   "mimetype": "text/x-python",
   "name": "python",
   "nbconvert_exporter": "python",
   "pygments_lexer": "ipython3",
   "version": "3.9.17"
  }
 },
 "nbformat": 4,
 "nbformat_minor": 5
}
