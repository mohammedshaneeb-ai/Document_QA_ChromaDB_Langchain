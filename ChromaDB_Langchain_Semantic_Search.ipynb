{
 "cells": [
  {
   "cell_type": "markdown",
   "id": "57657382",
   "metadata": {},
   "source": [
    "## Installing Required Libraries"
   ]
  },
  {
   "cell_type": "code",
   "execution_count": 1,
   "id": "d331b47a",
   "metadata": {},
   "outputs": [],
   "source": [
    "!pip install openai chromadb sentence_transformers -q"
   ]
  },
  {
   "cell_type": "code",
   "execution_count": 3,
   "id": "bea545ac",
   "metadata": {},
   "outputs": [],
   "source": [
    "!pip install langchain unstructured -q "
   ]
  },
  {
   "cell_type": "markdown",
   "id": "bbf05444",
   "metadata": {},
   "source": [
    "## Load Documents"
   ]
  },
  {
   "cell_type": "code",
   "execution_count": 4,
   "id": "c7621039",
   "metadata": {},
   "outputs": [
    {
     "data": {
      "text/plain": [
       "5"
      ]
     },
     "execution_count": 4,
     "metadata": {},
     "output_type": "execute_result"
    }
   ],
   "source": [
    "from langchain.document_loaders import DirectoryLoader\n",
    "directory = 'countries'\n",
    "\n",
    "def load_doc(directory):\n",
    "    loader = DirectoryLoader(directory)\n",
    "    documents = loader.load()\n",
    "    return documents\n",
    "\n",
    "documents = load_doc(directory)\n",
    "len(documents)"
   ]
  },
  {
   "cell_type": "markdown",
   "id": "47c4eed7",
   "metadata": {},
   "source": [
    "## Splitting to Chunks"
   ]
  },
  {
   "cell_type": "code",
   "execution_count": 6,
   "id": "da101160",
   "metadata": {},
   "outputs": [
    {
     "name": "stdout",
     "output_type": "stream",
     "text": [
      "23\n"
     ]
    }
   ],
   "source": [
    "from langchain.text_splitter import RecursiveCharacterTextSplitter\n",
    "\n",
    "def split_doc(documents,chunk_size=1000, chunk_overlap=20):\n",
    "    text_splitter = RecursiveCharacterTextSplitter(chunk_size=chunk_size,chunk_overlap=chunk_overlap)\n",
    "    docs = text_splitter.split_documents(documents)\n",
    "    return docs\n",
    "\n",
    "docs = split_doc(documents)\n",
    "print(len(docs))"
   ]
  },
  {
   "cell_type": "code",
   "execution_count": 8,
   "id": "10f32dfa",
   "metadata": {},
   "outputs": [
    {
     "data": {
      "text/plain": [
       "\"Let's explore the culture, festivals, and history of England in detail.\\n\\n\\n\\n\\n\\nEngland's Culture:**\\n\\n**1. Cultural Heritage:** England is renowned for its rich cultural heritage, which has significantly influenced the world. Its contributions include literature, theater, music, and art. Notable figures include William Shakespeare, Charles Dickens, and The Beatles.\\n\\n**2. Language:** English, the official language, has become a global lingua franca. England's language and literature have played a pivotal role in shaping the modern world.\\n\\n**3. Arts and Entertainment:** England is home to world-class theaters like London's West End, where numerous plays and musicals are performed. The country has a strong tradition of classical music and hosts events like the BBC Proms.\\n\\n**4. Cuisine:** English cuisine includes classics like fish and chips, roast dinners, and afternoon tea. The country also has a diverse culinary scene influenced by immigration, with a variety of international restaurants.\""
      ]
     },
     "execution_count": 8,
     "metadata": {},
     "output_type": "execute_result"
    }
   ],
   "source": [
    "docs[0].page_content"
   ]
  },
  {
   "cell_type": "code",
   "execution_count": 9,
   "id": "539277f7",
   "metadata": {},
   "outputs": [
    {
     "data": {
      "text/plain": [
       "\"Pakistan's culture, festivals, and history are deeply rooted in its Islamic heritage and diverse cultural influences. The country's rich traditions and historical legacy contribute to its unique identity.\""
      ]
     },
     "execution_count": 9,
     "metadata": {},
     "output_type": "execute_result"
    }
   ],
   "source": [
    "docs[22].page_content"
   ]
  },
  {
   "cell_type": "markdown",
   "id": "d55679d6",
   "metadata": {},
   "source": [
    "## Embedding "
   ]
  },
  {
   "cell_type": "code",
   "execution_count": 10,
   "id": "e4a91b9a",
   "metadata": {},
   "outputs": [],
   "source": [
    "from langchain.embeddings import SentenceTransformerEmbeddings\n",
    "\n",
    "embeddings = SentenceTransformerEmbeddings(model_name=\"all-MiniLM-L6-v2\")\n"
   ]
  },
  {
   "cell_type": "markdown",
   "id": "b7f853df",
   "metadata": {},
   "source": [
    "## Vector Database"
   ]
  },
  {
   "cell_type": "code",
   "execution_count": 11,
   "id": "58ab8311",
   "metadata": {},
   "outputs": [],
   "source": [
    "from langchain.vectorstores import Chroma\n",
    "\n",
    "db = Chroma.from_documents(docs, embeddings)"
   ]
  },
  {
   "cell_type": "markdown",
   "id": "1d8a8917",
   "metadata": {},
   "source": [
    "## Similarity Search"
   ]
  },
  {
   "cell_type": "code",
   "execution_count": 13,
   "id": "a9772e0d",
   "metadata": {},
   "outputs": [
    {
     "data": {
      "text/plain": [
       "[Document(page_content='India is a vast and diverse country with a rich cultural heritage, a tapestry of traditions, and a history that spans thousands of years. Let\\'s delve into India\\'s culture, festivals, and history in detail.\\n\\n\\n\\n\\n\\nIndia\\'s Culture:**\\n\\n**1. Cultural Diversity:** India is often referred to as the \"Land of Diversity\" due to its incredible variety of cultures, languages, religions, and traditions. It is home to numerous ethnic groups, each with its unique customs and practices.\\n\\n**2. Religion:** India is the birthplace of major religions such as Hinduism, Buddhism, Jainism, and Sikhism. It\\'s also home to significant populations of Muslims, Christians, and other faiths. The religious diversity has a profound influence on India\\'s cultural landscape.', metadata={'source': 'countries/india.txt'})]"
      ]
     },
     "execution_count": 13,
     "metadata": {},
     "output_type": "execute_result"
    }
   ],
   "source": [
    "query = \"What is the culture of India\"\n",
    "matching_docs = db.similarity_search(query,k=1)\n",
    "matching_docs"
   ]
  },
  {
   "cell_type": "code",
   "execution_count": 14,
   "id": "3309349f",
   "metadata": {},
   "outputs": [],
   "source": [
    "## Similarity search with function\n",
    "\n",
    "def similarity_docs(query,k=2,score=False):\n",
    "    if score:\n",
    "        similar_docs = db.similarity_search_with_score(query,k=k)\n",
    "    else:\n",
    "        similar_docs= db.similarity_search(query,k=k)\n",
    "    return similar_docs"
   ]
  },
  {
   "cell_type": "code",
   "execution_count": 17,
   "id": "b380bacb",
   "metadata": {},
   "outputs": [
    {
     "data": {
      "text/plain": [
       "[(Document(page_content=\"The United States' culture, festivals, and history reflect its diverse and dynamic nature. It has shaped and been shaped by waves of immigration, social movements, and technological advancements, making it a complex and influential nation on the global stage.\", metadata={'source': 'countries/USA.txt'}),\n",
       "  0.6867135763168335),\n",
       " (Document(page_content=\"**4. Cuisine:** American cuisine is a reflection of its diverse population. It includes dishes influenced by Native American, European, African, Asian, and Latin American traditions. Fast food, barbecue, and regional specialties like Tex-Mex and New England clam chowder are notable.\\n\\n**5. Clothing:** American clothing styles vary widely, from casual wear like jeans and T-shirts to formal attire for business and special occasions. The U.S. is also known for its fashion industry, with cities like New York being major fashion hubs.\\n\\n\\n\\n\\n\\nUSA's Festivals:**\\n\\n**1. Independence Day:** The Fourth of July is a significant national holiday commemorating the Declaration of Independence in 1776. It's celebrated with fireworks, parades, barbecues, and patriotic displays.\\n\\n**2. Thanksgiving:** Thanksgiving, celebrated on the fourth Thursday in November, is a time for families to gather and give thanks. A traditional feast includes roast turkey, stuffing, and pumpkin pie.\", metadata={'source': 'countries/USA.txt'}),\n",
       "  0.8350399732589722)]"
      ]
     },
     "execution_count": 17,
     "metadata": {},
     "output_type": "execute_result"
    }
   ],
   "source": [
    "query = \"what are the festivals of USA\"\n",
    "similar_docs = similarity_docs(query,score=True)\n",
    "similar_docs"
   ]
  },
  {
   "cell_type": "code",
   "execution_count": null,
   "id": "7c159f03",
   "metadata": {},
   "outputs": [],
   "source": []
  },
  {
   "cell_type": "code",
   "execution_count": null,
   "id": "684572ad",
   "metadata": {},
   "outputs": [],
   "source": []
  }
 ],
 "metadata": {
  "kernelspec": {
   "display_name": "Python 3 (ipykernel)",
   "language": "python",
   "name": "python3"
  },
  "language_info": {
   "codemirror_mode": {
    "name": "ipython",
    "version": 3
   },
   "file_extension": ".py",
   "mimetype": "text/x-python",
   "name": "python",
   "nbconvert_exporter": "python",
   "pygments_lexer": "ipython3",
   "version": "3.9.17"
  }
 },
 "nbformat": 4,
 "nbformat_minor": 5
}
