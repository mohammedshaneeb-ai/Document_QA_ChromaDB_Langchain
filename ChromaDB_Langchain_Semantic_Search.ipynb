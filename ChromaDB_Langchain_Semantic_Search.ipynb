{
 "cells": [
  {
   "cell_type": "markdown",
   "id": "dd88058d",
   "metadata": {},
   "source": [
    "## Installing Required Libraries"
   ]
  },
  {
   "cell_type": "code",
   "execution_count": 1,
   "id": "f8fdd189",
   "metadata": {},
   "outputs": [],
   "source": [
    "!pip install openai chromadb sentence_transformers -q"
   ]
  },
  {
   "cell_type": "code",
   "execution_count": 3,
   "id": "17ebf9db",
   "metadata": {},
   "outputs": [],
   "source": [
    "!pip install langchain unstructured -q "
   ]
  },
  {
   "cell_type": "markdown",
   "id": "cc92e132",
   "metadata": {},
   "source": [
    "## Load Documents"
   ]
  },
  {
   "cell_type": "code",
   "execution_count": 4,
   "id": "a23dcdd5",
   "metadata": {},
   "outputs": [
    {
     "data": {
      "text/plain": [
       "5"
      ]
     },
     "execution_count": 4,
     "metadata": {},
     "output_type": "execute_result"
    }
   ],
   "source": [
    "from langchain.document_loaders import DirectoryLoader\n",
    "directory = 'countries'\n",
    "\n",
    "def load_doc(directory):\n",
    "    loader = DirectoryLoader(directory)\n",
    "    documents = loader.load()\n",
    "    return documents\n",
    "\n",
    "documents = load_doc(directory)\n",
    "len(documents)"
   ]
  },
  {
   "cell_type": "markdown",
   "id": "2233dd7a",
   "metadata": {},
   "source": [
    "## Splitting to Chunks"
   ]
  },
  {
   "cell_type": "code",
   "execution_count": 6,
   "id": "fe941844",
   "metadata": {},
   "outputs": [
    {
     "name": "stdout",
     "output_type": "stream",
     "text": [
      "23\n"
     ]
    }
   ],
   "source": [
    "from langchain.text_splitter import RecursiveCharacterTextSplitter\n",
    "\n",
    "def split_doc(documents,chunk_size=1000, chunk_overlap=20):\n",
    "    text_splitter = RecursiveCharacterTextSplitter(chunk_size=chunk_size,chunk_overlap=chunk_overlap)\n",
    "    docs = text_splitter.split_documents(documents)\n",
    "    return docs\n",
    "\n",
    "docs = split_doc(documents)\n",
    "print(len(docs))"
   ]
  },
  {
   "cell_type": "code",
   "execution_count": 8,
   "id": "449ad61e",
   "metadata": {},
   "outputs": [
    {
     "data": {
      "text/plain": [
       "\"Let's explore the culture, festivals, and history of England in detail.\\n\\n\\n\\n\\n\\nEngland's Culture:**\\n\\n**1. Cultural Heritage:** England is renowned for its rich cultural heritage, which has significantly influenced the world. Its contributions include literature, theater, music, and art. Notable figures include William Shakespeare, Charles Dickens, and The Beatles.\\n\\n**2. Language:** English, the official language, has become a global lingua franca. England's language and literature have played a pivotal role in shaping the modern world.\\n\\n**3. Arts and Entertainment:** England is home to world-class theaters like London's West End, where numerous plays and musicals are performed. The country has a strong tradition of classical music and hosts events like the BBC Proms.\\n\\n**4. Cuisine:** English cuisine includes classics like fish and chips, roast dinners, and afternoon tea. The country also has a diverse culinary scene influenced by immigration, with a variety of international restaurants.\""
      ]
     },
     "execution_count": 8,
     "metadata": {},
     "output_type": "execute_result"
    }
   ],
   "source": [
    "docs[0].page_content"
   ]
  },
  {
   "cell_type": "code",
   "execution_count": 9,
   "id": "bccef029",
   "metadata": {},
   "outputs": [
    {
     "data": {
      "text/plain": [
       "\"Pakistan's culture, festivals, and history are deeply rooted in its Islamic heritage and diverse cultural influences. The country's rich traditions and historical legacy contribute to its unique identity.\""
      ]
     },
     "execution_count": 9,
     "metadata": {},
     "output_type": "execute_result"
    }
   ],
   "source": [
    "docs[22].page_content"
   ]
  },
  {
   "cell_type": "markdown",
   "id": "33df77a5",
   "metadata": {},
   "source": [
    "## Embedding "
   ]
  },
  {
   "cell_type": "code",
   "execution_count": 10,
   "id": "283a121d",
   "metadata": {},
   "outputs": [],
   "source": [
    "from langchain.embeddings import SentenceTransformerEmbeddings\n",
    "\n",
    "embeddings = SentenceTransformerEmbeddings(model_name=\"all-MiniLM-L6-v2\")\n"
   ]
  },
  {
   "cell_type": "markdown",
   "id": "551b0bfe",
   "metadata": {},
   "source": [
    "## Vector Database"
   ]
  },
  {
   "cell_type": "code",
   "execution_count": 11,
   "id": "eb7e5a78",
   "metadata": {},
   "outputs": [],
   "source": [
    "from langchain.vectorstores import Chroma\n",
    "\n",
    "db = Chroma.from_documents(docs, embeddings)"
   ]
  },
  {
   "cell_type": "markdown",
   "id": "198c02a4",
   "metadata": {},
   "source": [
    "## Similarity Search"
   ]
  },
  {
   "cell_type": "code",
   "execution_count": 13,
   "id": "2f565cdf",
   "metadata": {},
   "outputs": [
    {
     "data": {
      "text/plain": [
       "[Document(page_content='India is a vast and diverse country with a rich cultural heritage, a tapestry of traditions, and a history that spans thousands of years. Let\\'s delve into India\\'s culture, festivals, and history in detail.\\n\\n\\n\\n\\n\\nIndia\\'s Culture:**\\n\\n**1. Cultural Diversity:** India is often referred to as the \"Land of Diversity\" due to its incredible variety of cultures, languages, religions, and traditions. It is home to numerous ethnic groups, each with its unique customs and practices.\\n\\n**2. Religion:** India is the birthplace of major religions such as Hinduism, Buddhism, Jainism, and Sikhism. It\\'s also home to significant populations of Muslims, Christians, and other faiths. The religious diversity has a profound influence on India\\'s cultural landscape.', metadata={'source': 'countries/india.txt'})]"
      ]
     },
     "execution_count": 13,
     "metadata": {},
     "output_type": "execute_result"
    }
   ],
   "source": [
    "query = \"What is the culture of India\"\n",
    "matching_docs = db.similarity_search(query,k=1)\n",
    "matching_docs"
   ]
  },
  {
   "cell_type": "code",
   "execution_count": 14,
   "id": "2eda21b7",
   "metadata": {},
   "outputs": [],
   "source": [
    "## Similarity search with function\n",
    "\n",
    "def similarity_docs(query,k=2,score=False):\n",
    "    if score:\n",
    "        similar_docs = db.similarity_search_with_score(query,k=k)\n",
    "    else:\n",
    "        similar_docs= db.similarity_search(query,k=k)\n",
    "    return similar_docs"
   ]
  },
  {
   "cell_type": "code",
   "execution_count": 17,
   "id": "569575ac",
   "metadata": {},
   "outputs": [
    {
     "data": {
      "text/plain": [
       "[(Document(page_content=\"The United States' culture, festivals, and history reflect its diverse and dynamic nature. It has shaped and been shaped by waves of immigration, social movements, and technological advancements, making it a complex and influential nation on the global stage.\", metadata={'source': 'countries/USA.txt'}),\n",
       "  0.6867135763168335),\n",
       " (Document(page_content=\"**4. Cuisine:** American cuisine is a reflection of its diverse population. It includes dishes influenced by Native American, European, African, Asian, and Latin American traditions. Fast food, barbecue, and regional specialties like Tex-Mex and New England clam chowder are notable.\\n\\n**5. Clothing:** American clothing styles vary widely, from casual wear like jeans and T-shirts to formal attire for business and special occasions. The U.S. is also known for its fashion industry, with cities like New York being major fashion hubs.\\n\\n\\n\\n\\n\\nUSA's Festivals:**\\n\\n**1. Independence Day:** The Fourth of July is a significant national holiday commemorating the Declaration of Independence in 1776. It's celebrated with fireworks, parades, barbecues, and patriotic displays.\\n\\n**2. Thanksgiving:** Thanksgiving, celebrated on the fourth Thursday in November, is a time for families to gather and give thanks. A traditional feast includes roast turkey, stuffing, and pumpkin pie.\", metadata={'source': 'countries/USA.txt'}),\n",
       "  0.8350399732589722)]"
      ]
     },
     "execution_count": 17,
     "metadata": {},
     "output_type": "execute_result"
    }
   ],
   "source": [
    "query = \"what are the festivals of USA\"\n",
    "similar_docs = similarity_docs(query,score=True)\n",
    "similar_docs"
   ]
  },
  {
   "cell_type": "markdown",
   "id": "ca623da2",
   "metadata": {},
   "source": [
    "## Perstist VectorDB instance "
   ]
  },
  {
   "cell_type": "code",
   "execution_count": 18,
   "id": "79013584",
   "metadata": {},
   "outputs": [],
   "source": [
    "perstist_directory = \"db\"\n",
    "\n",
    "vectordb = Chroma.from_documents(\n",
    "    documents=docs,embedding=embeddings,persist_directory=perstist_directory\n",
    ")"
   ]
  },
  {
   "cell_type": "code",
   "execution_count": 19,
   "id": "c3147935",
   "metadata": {},
   "outputs": [],
   "source": [
    "vectordb.persist()"
   ]
  },
  {
   "cell_type": "markdown",
   "id": "21913e9e",
   "metadata": {},
   "source": [
    "## Load persisted Directory"
   ]
  },
  {
   "cell_type": "code",
   "execution_count": 20,
   "id": "8d6bd216",
   "metadata": {},
   "outputs": [],
   "source": [
    "chroma_db = Chroma(persist_directory='db/',embedding_function=embeddings)"
   ]
  },
  {
   "cell_type": "code",
   "execution_count": 21,
   "id": "ebd37c54",
   "metadata": {},
   "outputs": [],
   "source": [
    "query = \"what is the culture of Canada\"\n",
    "result = chroma_db.similarity_search(query)"
   ]
  },
  {
   "cell_type": "code",
   "execution_count": 22,
   "id": "0f08d1e3",
   "metadata": {},
   "outputs": [
    {
     "data": {
      "text/plain": [
       "[Document(page_content=\"Let's explore the culture, festivals, and history of Canada in detail.\\n\\n\\n\\n\\n\\nCanada's Culture:**\\n\\n**1. Cultural Diversity:** Canada is known for its cultural mosaic, where people from diverse backgrounds and ethnicities coexist harmoniously. This multiculturalism is a defining feature of Canadian society.\\n\\n**2. Bilingualism:** Canada is officially bilingual, with English and French as the two official languages. This bilingualism reflects the country's history and the presence of a significant French-speaking population in the province of Quebec.\\n\\n**3. Arts and Culture:** Canada has a rich artistic heritage, with contributions to literature, music, film, and visual arts. Canadian authors like Margaret Atwood and Yann Martel have achieved international acclaim. The country is also known for its indigenous art and traditions.\", metadata={'source': 'countries/canada.txt'}),\n",
       " Document(page_content=\"**4. Indigenous Culture:** Canada's indigenous peoples, including First Nations, Inuit, and Métis, have a deep cultural heritage. Indigenous art, storytelling, and traditions are an integral part of Canadian culture.\\n\\n**5. Cuisine:** Canadian cuisine is influenced by both indigenous and immigrant cultures. Iconic dishes include poutine (fries with cheese curds and gravy), butter tarts, tourtière (meat pie), and Nanaimo bars.\\n\\n\\n\\n\\n\\nCanada's Festivals:**\\n\\n**1. Canada Day:** Celebrated on July 1st, Canada Day marks the anniversary of Confederation in 1867 when Canada became a self-governing dominion within the British Empire. Festivities include parades, fireworks, and concerts.\\n\\n**2. Thanksgiving:** Similar to the U.S., Canada celebrates Thanksgiving on the second Monday in October. Families gather for a meal to give thanks for the harvest and blessings of the past year.\", metadata={'source': 'countries/canada.txt'}),\n",
       " Document(page_content='**3. Winterlude:** Held in Ottawa, this winter festival showcases Canada\\'s love for winter sports and activities. It features ice sculptures, snow slides, and outdoor concerts.\\n\\n**4. Calgary Stampede:** Known as the \"Greatest Outdoor Show on Earth,\" this rodeo and exhibition celebrates Canada\\'s western heritage with rodeo events, concerts, and a lively carnival atmosphere.\\n\\n**5. Indigenous Powwows:** Throughout the year, various indigenous communities in Canada host powwows, which are gatherings featuring traditional dancing, drumming, and cultural celebrations.\\n\\n\\n\\n\\n\\nCanada\\'s History:**\\n\\n**1. Indigenous Peoples:** Canada has a long history of indigenous cultures dating back thousands of years. These diverse communities have their own languages, traditions, and histories.\\n\\n**2. European Exploration:** European exploration of Canada began in the 15th century with the arrival of explorers like John Cabot and Jacques Cartier. The fur trade became a significant economic activity.', metadata={'source': 'countries/canada.txt'}),\n",
       " Document(page_content=\"**3. Confederation:** On July 1, 1867, the Dominion of Canada was established through the British North America Act, uniting the provinces of Ontario, Quebec, New Brunswick, and Nova Scotia.\\n\\n**4. Expansion and Immigration:** Canada's expansion westward in the late 19th and early 20th centuries attracted immigrants from Europe, Asia, and other parts of the world. This diversity has shaped modern Canada.\\n\\n**5. Independence:** Canada gradually gained more autonomy from Britain and achieved full sovereignty in 1982 with the Canada Act. The country is a constitutional monarchy with a parliamentary democracy.\\n\\nCanada's culture, festivals, and history are a reflection of its multicultural identity and its commitment to inclusivity and diversity. Its history is marked by indigenous heritage, European exploration, and a modern nation known for its natural beauty, social programs, and progressive values.\", metadata={'source': 'countries/canada.txt'})]"
      ]
     },
     "execution_count": 22,
     "metadata": {},
     "output_type": "execute_result"
    }
   ],
   "source": [
    "result"
   ]
  },
  {
   "cell_type": "markdown",
   "id": "a0468de9",
   "metadata": {},
   "source": [
    "## LLM"
   ]
  },
  {
   "cell_type": "code",
   "execution_count": 90,
   "id": "1732ca69",
   "metadata": {},
   "outputs": [],
   "source": [
    "import os\n",
    "from dotenv import load_dotenv\n",
    "load_dotenv()\n",
    "\n",
    "openai_api_key = os.getenv('openai_key')"
   ]
  },
  {
   "cell_type": "code",
   "execution_count": 93,
   "id": "491164f1",
   "metadata": {},
   "outputs": [],
   "source": [
    "from langchain.chat_models import ChatOpenAI\n",
    "llms = ChatOpenAI(model_name='gpt-3.5-turbo',openai_api_key=openai_api_key)"
   ]
  },
  {
   "cell_type": "markdown",
   "id": "5f9701e4",
   "metadata": {},
   "source": [
    "## Getting Answer"
   ]
  },
  {
   "cell_type": "code",
   "execution_count": 94,
   "id": "136d3573",
   "metadata": {},
   "outputs": [
    {
     "name": "stdout",
     "output_type": "stream",
     "text": [
      "\n",
      "\n",
      "\u001b[1m> Entering new StuffDocumentsChain chain...\u001b[0m\n",
      "\n",
      "\n",
      "\u001b[1m> Entering new LLMChain chain...\u001b[0m\n",
      "Prompt after formatting:\n",
      "\u001b[32;1m\u001b[1;3mSystem: Use the following pieces of context to answer the users question. \n",
      "If you don't know the answer, just say that you don't know, don't try to make up an answer.\n",
      "----------------\n",
      "Let's explore Pakistan's culture, festivals, and history in detail.\n",
      "\n",
      "\n",
      "\n",
      "\n",
      "\n",
      "Pakistan's Culture:**\n",
      "\n",
      "**1. Cultural Diversity:** Pakistan is a diverse country with a rich tapestry of cultures, languages, and traditions. It is home to various ethnic groups, each contributing to the nation's unique cultural mosaic.\n",
      "\n",
      "**2. Religion:** Islam is the predominant religion in Pakistan, and it plays a central role in shaping the country's culture and way of life. Mosques, Islamic art, and calligraphy are integral parts of the cultural landscape.\n",
      "\n",
      "**3. Art and Architecture:** Pakistan has a rich artistic heritage, with impressive Islamic architecture, including Badshahi Mosque in Lahore and Shah Jahan Mosque in Thatta. Traditional art forms like truck art, pottery, and intricate textiles are prominent.\n",
      "\n",
      "**4. Cuisine:** Pakistani cuisine is known for its flavorful dishes, including biryani, kebabs, nihari, and various types of bread, such as naan and roti. Spices and aromatic herbs are commonly used in cooking.\n",
      "\n",
      "**5. Clothing:** Traditional Pakistani clothing varies by region. Men often wear shalwar kameez, while women wear various styles of shalwar kameez and saris. Western attire is also popular, especially in urban areas.\n",
      "\n",
      "\n",
      "\n",
      "\n",
      "\n",
      "Pakistan's Festivals:**\n",
      "\n",
      "**1. Eid:** Eid-ul-Fitr and Eid-ul-Adha are two major Islamic festivals celebrated with great fervor. People dress in their finest clothes, offer prayers, exchange gifts, and share festive meals with family and friends.\n",
      "\n",
      "**2. Basant:** The Basant festival, celebrated in Punjab, marks the arrival of spring. It involves kite flying competitions, music, and dancing, with participants wearing bright colors.\n",
      "Human: how is the clothing of pakistan\u001b[0m\n",
      "\n",
      "\u001b[1m> Finished chain.\u001b[0m\n",
      "\n",
      "\u001b[1m> Finished chain.\u001b[0m\n"
     ]
    },
    {
     "data": {
      "text/plain": [
       "'The clothing of Pakistan is diverse, with various traditional and modern styles. Traditional clothing for men often includes the shalwar kameez, which consists of loose-fitting pants (shalwar) and a long tunic (kameez). Women also commonly wear shalwar kameez, which can be adorned with intricate embroidery and embellishments. Saris are also worn by women, particularly in certain regions. Western attire is also popular, especially in urban areas, and many Pakistanis incorporate a mix of traditional and modern clothing styles in their everyday attire.'"
      ]
     },
     "execution_count": 94,
     "metadata": {},
     "output_type": "execute_result"
    }
   ],
   "source": [
    "from langchain.chains.question_answering import load_qa_chain\n",
    "\n",
    "chain = load_qa_chain(llms, chain_type='stuff',verbose=True)\n",
    "\n",
    "query = \"how is the clothing of pakistan\"\n",
    "similar_docs = similarity_docs(query,k=2)\n",
    "chain.run(input_documents=similar_docs,question=query)"
   ]
  },
  {
   "cell_type": "markdown",
   "id": "8dc71b4b",
   "metadata": {},
   "source": [
    "## Retriver QA"
   ]
  },
  {
   "cell_type": "code",
   "execution_count": 98,
   "id": "50b8f964",
   "metadata": {},
   "outputs": [
    {
     "data": {
      "text/plain": [
       "'The clothing of Pakistan is diverse and varies by region and cultural traditions. Traditional clothing for men often includes shalwar kameez, which consists of loose-fitting pants (shalwar) and a long tunic (kameez). Women also wear shalwar kameez, but there are various styles and designs specific to different regions. In addition, women may wear saris, which are long draped garments, particularly in the eastern parts of the country. Western attire is also popular, especially in urban areas. Overall, Pakistani clothing reflects a blend of traditional and modern styles.'"
      ]
     },
     "execution_count": 98,
     "metadata": {},
     "output_type": "execute_result"
    }
   ],
   "source": [
    "from langchain.chains import RetrievalQA\n",
    "retrieval_chain = RetrievalQA.from_chain_type(llms, chain_type=\"stuff\", retriever=chroma_db.as_retriever())\n",
    "retrieval_chain.run(query)\n"
   ]
  },
  {
   "cell_type": "code",
   "execution_count": null,
   "id": "64a315a1",
   "metadata": {},
   "outputs": [],
   "source": []
  },
  {
   "cell_type": "code",
   "execution_count": null,
   "id": "5c9db29f",
   "metadata": {},
   "outputs": [],
   "source": []
  }
 ],
 "metadata": {
  "kernelspec": {
   "display_name": "Python 3 (ipykernel)",
   "language": "python",
   "name": "python3"
  },
  "language_info": {
   "codemirror_mode": {
    "name": "ipython",
    "version": 3
   },
   "file_extension": ".py",
   "mimetype": "text/x-python",
   "name": "python",
   "nbconvert_exporter": "python",
   "pygments_lexer": "ipython3",
   "version": "3.9.17"
  }
 },
 "nbformat": 4,
 "nbformat_minor": 5
}
